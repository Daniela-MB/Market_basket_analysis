{
 "cells": [
  {
   "cell_type": "markdown",
   "id": "df34984a-625b-46f2-a3fc-e5108be52760",
   "metadata": {},
   "source": [
    "To start this project, I will gather at the beginning all the libraries used to manipulate data, create visualizations, and develop and deploy machine learning models (ML)."
   ]
  },
  {
   "cell_type": "code",
   "execution_count": 2,
   "id": "37f7ec92-b57e-4229-a4e8-e7e5617511bc",
   "metadata": {},
   "outputs": [],
   "source": [
    "import pandas as pd\n",
    "import numpy as np\n",
    "import matplotlib.pyplot as plt\n",
    "import missingno as msno\n",
    "import seaborn as sns\n",
    "from scipy.stats.mstats import normaltest"
   ]
  },
  {
   "cell_type": "markdown",
   "id": "86d80a07-69c5-4d25-91b9-c211b11c9fcf",
   "metadata": {},
   "source": [
    "# Data Preparation"
   ]
  },
  {
   "cell_type": "markdown",
   "id": "f2d76e5c-99aa-4022-9923-8e479bd3f0bf",
   "metadata": {},
   "source": [
    "## Data understanding - EDA:"
   ]
  },
  {
   "cell_type": "markdown",
   "id": "a451f74f-54da-4798-bc00-531610e58c07",
   "metadata": {},
   "source": [
    "#### Data characterisation:"
   ]
  },
  {
   "cell_type": "markdown",
   "id": "c5bb7006-0163-4e2a-913c-0da452fb7416",
   "metadata": {},
   "source": [
    "The method 'pd.read_csv' was used to access the CSV files ('anime.csv' and 'rating.csv'). Then, I used the method '.head()' to visualize the data, followed by the method '.shape' to determine the dataset size, and the '.info()' to see the data types and null-values.\n",
    "\n",
    "The 'anime' dataset has 12,294 records and 7 features. While the second dataset 'rating' has 7,813,737 records and 3 features."
   ]
  },
  {
   "cell_type": "code",
   "execution_count": 7,
   "id": "9e9847da-19b4-4a65-8b5e-6b0859ae2f6c",
   "metadata": {},
   "outputs": [
    {
     "data": {
      "text/html": [
       "<div>\n",
       "<style scoped>\n",
       "    .dataframe tbody tr th:only-of-type {\n",
       "        vertical-align: middle;\n",
       "    }\n",
       "\n",
       "    .dataframe tbody tr th {\n",
       "        vertical-align: top;\n",
       "    }\n",
       "\n",
       "    .dataframe thead th {\n",
       "        text-align: right;\n",
       "    }\n",
       "</style>\n",
       "<table border=\"1\" class=\"dataframe\">\n",
       "  <thead>\n",
       "    <tr style=\"text-align: right;\">\n",
       "      <th></th>\n",
       "      <th>anime_id</th>\n",
       "      <th>name</th>\n",
       "      <th>genre</th>\n",
       "      <th>type</th>\n",
       "      <th>episodes</th>\n",
       "      <th>rating</th>\n",
       "      <th>members</th>\n",
       "    </tr>\n",
       "  </thead>\n",
       "  <tbody>\n",
       "    <tr>\n",
       "      <th>0</th>\n",
       "      <td>32281</td>\n",
       "      <td>Kimi no Na wa.</td>\n",
       "      <td>Drama, Romance, School, Supernatural</td>\n",
       "      <td>Movie</td>\n",
       "      <td>1</td>\n",
       "      <td>9.37</td>\n",
       "      <td>200630</td>\n",
       "    </tr>\n",
       "    <tr>\n",
       "      <th>1</th>\n",
       "      <td>5114</td>\n",
       "      <td>Fullmetal Alchemist: Brotherhood</td>\n",
       "      <td>Action, Adventure, Drama, Fantasy, Magic, Mili...</td>\n",
       "      <td>TV</td>\n",
       "      <td>64</td>\n",
       "      <td>9.26</td>\n",
       "      <td>793665</td>\n",
       "    </tr>\n",
       "    <tr>\n",
       "      <th>2</th>\n",
       "      <td>28977</td>\n",
       "      <td>Gintama°</td>\n",
       "      <td>Action, Comedy, Historical, Parody, Samurai, S...</td>\n",
       "      <td>TV</td>\n",
       "      <td>51</td>\n",
       "      <td>9.25</td>\n",
       "      <td>114262</td>\n",
       "    </tr>\n",
       "    <tr>\n",
       "      <th>3</th>\n",
       "      <td>9253</td>\n",
       "      <td>Steins;Gate</td>\n",
       "      <td>Sci-Fi, Thriller</td>\n",
       "      <td>TV</td>\n",
       "      <td>24</td>\n",
       "      <td>9.17</td>\n",
       "      <td>673572</td>\n",
       "    </tr>\n",
       "    <tr>\n",
       "      <th>4</th>\n",
       "      <td>9969</td>\n",
       "      <td>Gintama&amp;#039;</td>\n",
       "      <td>Action, Comedy, Historical, Parody, Samurai, S...</td>\n",
       "      <td>TV</td>\n",
       "      <td>51</td>\n",
       "      <td>9.16</td>\n",
       "      <td>151266</td>\n",
       "    </tr>\n",
       "  </tbody>\n",
       "</table>\n",
       "</div>"
      ],
      "text/plain": [
       "   anime_id                              name  \\\n",
       "0     32281                    Kimi no Na wa.   \n",
       "1      5114  Fullmetal Alchemist: Brotherhood   \n",
       "2     28977                          Gintama°   \n",
       "3      9253                       Steins;Gate   \n",
       "4      9969                     Gintama&#039;   \n",
       "\n",
       "                                               genre   type episodes  rating  \\\n",
       "0               Drama, Romance, School, Supernatural  Movie        1    9.37   \n",
       "1  Action, Adventure, Drama, Fantasy, Magic, Mili...     TV       64    9.26   \n",
       "2  Action, Comedy, Historical, Parody, Samurai, S...     TV       51    9.25   \n",
       "3                                   Sci-Fi, Thriller     TV       24    9.17   \n",
       "4  Action, Comedy, Historical, Parody, Samurai, S...     TV       51    9.16   \n",
       "\n",
       "   members  \n",
       "0   200630  \n",
       "1   793665  \n",
       "2   114262  \n",
       "3   673572  \n",
       "4   151266  "
      ]
     },
     "execution_count": 7,
     "metadata": {},
     "output_type": "execute_result"
    }
   ],
   "source": [
    "anime = pd.read_csv('anime.csv')\n",
    "anime.head()"
   ]
  },
  {
   "cell_type": "code",
   "execution_count": 8,
   "id": "1e3ced22-5696-4146-bd98-36d0489d811a",
   "metadata": {},
   "outputs": [
    {
     "data": {
      "text/plain": [
       "(12294, 7)"
      ]
     },
     "execution_count": 8,
     "metadata": {},
     "output_type": "execute_result"
    }
   ],
   "source": [
    "anime.shape"
   ]
  },
  {
   "cell_type": "code",
   "execution_count": 9,
   "id": "2f6b730b-32d1-4bee-a89a-468638dbf64d",
   "metadata": {},
   "outputs": [
    {
     "name": "stdout",
     "output_type": "stream",
     "text": [
      "<class 'pandas.core.frame.DataFrame'>\n",
      "RangeIndex: 12294 entries, 0 to 12293\n",
      "Data columns (total 7 columns):\n",
      " #   Column    Non-Null Count  Dtype  \n",
      "---  ------    --------------  -----  \n",
      " 0   anime_id  12294 non-null  int64  \n",
      " 1   name      12294 non-null  object \n",
      " 2   genre     12232 non-null  object \n",
      " 3   type      12269 non-null  object \n",
      " 4   episodes  12294 non-null  object \n",
      " 5   rating    12064 non-null  float64\n",
      " 6   members   12294 non-null  int64  \n",
      "dtypes: float64(1), int64(2), object(4)\n",
      "memory usage: 672.5+ KB\n"
     ]
    }
   ],
   "source": [
    "anime.info()"
   ]
  },
  {
   "cell_type": "code",
   "execution_count": 10,
   "id": "e4a6ef52-0c5b-4b97-ab85-4b115e10d34f",
   "metadata": {},
   "outputs": [
    {
     "data": {
      "text/html": [
       "<div>\n",
       "<style scoped>\n",
       "    .dataframe tbody tr th:only-of-type {\n",
       "        vertical-align: middle;\n",
       "    }\n",
       "\n",
       "    .dataframe tbody tr th {\n",
       "        vertical-align: top;\n",
       "    }\n",
       "\n",
       "    .dataframe thead th {\n",
       "        text-align: right;\n",
       "    }\n",
       "</style>\n",
       "<table border=\"1\" class=\"dataframe\">\n",
       "  <thead>\n",
       "    <tr style=\"text-align: right;\">\n",
       "      <th></th>\n",
       "      <th>user_id</th>\n",
       "      <th>anime_id</th>\n",
       "      <th>rating</th>\n",
       "    </tr>\n",
       "  </thead>\n",
       "  <tbody>\n",
       "    <tr>\n",
       "      <th>0</th>\n",
       "      <td>1</td>\n",
       "      <td>20</td>\n",
       "      <td>-1</td>\n",
       "    </tr>\n",
       "    <tr>\n",
       "      <th>1</th>\n",
       "      <td>1</td>\n",
       "      <td>24</td>\n",
       "      <td>-1</td>\n",
       "    </tr>\n",
       "    <tr>\n",
       "      <th>2</th>\n",
       "      <td>1</td>\n",
       "      <td>79</td>\n",
       "      <td>-1</td>\n",
       "    </tr>\n",
       "    <tr>\n",
       "      <th>3</th>\n",
       "      <td>1</td>\n",
       "      <td>226</td>\n",
       "      <td>-1</td>\n",
       "    </tr>\n",
       "    <tr>\n",
       "      <th>4</th>\n",
       "      <td>1</td>\n",
       "      <td>241</td>\n",
       "      <td>-1</td>\n",
       "    </tr>\n",
       "  </tbody>\n",
       "</table>\n",
       "</div>"
      ],
      "text/plain": [
       "   user_id  anime_id  rating\n",
       "0        1        20      -1\n",
       "1        1        24      -1\n",
       "2        1        79      -1\n",
       "3        1       226      -1\n",
       "4        1       241      -1"
      ]
     },
     "execution_count": 10,
     "metadata": {},
     "output_type": "execute_result"
    }
   ],
   "source": [
    "rating = pd.read_csv('rating.csv')\n",
    "rating.head()"
   ]
  },
  {
   "cell_type": "code",
   "execution_count": 11,
   "id": "0117aad2-d57f-44d0-bbe0-c73c3f95a56c",
   "metadata": {},
   "outputs": [
    {
     "data": {
      "text/plain": [
       "(7813737, 3)"
      ]
     },
     "execution_count": 11,
     "metadata": {},
     "output_type": "execute_result"
    }
   ],
   "source": [
    "rating.shape"
   ]
  },
  {
   "cell_type": "code",
   "execution_count": 12,
   "id": "86befa65-4762-483f-9ae8-465efc0266cb",
   "metadata": {},
   "outputs": [
    {
     "name": "stdout",
     "output_type": "stream",
     "text": [
      "<class 'pandas.core.frame.DataFrame'>\n",
      "RangeIndex: 7813737 entries, 0 to 7813736\n",
      "Data columns (total 3 columns):\n",
      " #   Column    Dtype\n",
      "---  ------    -----\n",
      " 0   user_id   int64\n",
      " 1   anime_id  int64\n",
      " 2   rating    int64\n",
      "dtypes: int64(3)\n",
      "memory usage: 178.8 MB\n"
     ]
    }
   ],
   "source": [
    "rating.info()"
   ]
  },
  {
   "cell_type": "markdown",
   "id": "d454596d-c851-4800-9676-0fc2bd5d8353",
   "metadata": {},
   "source": [
    "#### Checking for missing values and duplicates:\n",
    "I will use the '.isnull()' and '.sum()' functions to verify the presence of missing values in both datasets. Additionally, I will check for duplicates using the '.duplicated().sum()' function. These procedures are essential for ensuring data quality when performing statistical analysis, visualization, and modeling. Without them, the results can be unreliable and inaccurate, potentially leading to incorrect decisions.\n",
    "\n",
    "As seen in the results, the 'rating' dataset does not contain any missing values. However, the 'anime' dataset exhibits 2.25% missing values. Considering this proportion is not substantial, I have decided to remove them."
   ]
  },
  {
   "cell_type": "code",
   "execution_count": 14,
   "id": "5a1014de-4121-4708-ac37-91d058edbc6c",
   "metadata": {},
   "outputs": [
    {
     "data": {
      "text/plain": [
       "anime_id      0\n",
       "name          0\n",
       "genre        62\n",
       "type         25\n",
       "episodes      0\n",
       "rating      230\n",
       "members       0\n",
       "dtype: int64"
      ]
     },
     "execution_count": 14,
     "metadata": {},
     "output_type": "execute_result"
    }
   ],
   "source": [
    "anime.isnull().sum()"
   ]
  },
  {
   "cell_type": "code",
   "execution_count": 15,
   "id": "d2d0a2ec-3cb2-4fcb-975e-432accf34be7",
   "metadata": {},
   "outputs": [
    {
     "data": {
      "text/plain": [
       "user_id     0\n",
       "anime_id    0\n",
       "rating      0\n",
       "dtype: int64"
      ]
     },
     "execution_count": 15,
     "metadata": {},
     "output_type": "execute_result"
    }
   ],
   "source": [
    "rating.isnull().sum()"
   ]
  },
  {
   "cell_type": "markdown",
   "id": "3824235c-6303-49d3-956f-1fddb565c81f",
   "metadata": {},
   "source": [
    " will use the Missingno library to visually represent the missing values."
   ]
  },
  {
   "cell_type": "code",
   "execution_count": 17,
   "id": "1c2ffada-3cbe-475e-88d5-d5149f70233a",
   "metadata": {},
   "outputs": [
    {
     "data": {
      "text/plain": [
       "<Axes: >"
      ]
     },
     "execution_count": 17,
     "metadata": {},
     "output_type": "execute_result"
    },
    {
     "data": {
      "image/png": "[encoded data removed]",
      "text/plain": [
       "<Figure size 2500x1000 with 2 Axes>"
      ]
     },
     "metadata": {},
     "output_type": "display_data"
    }
   ],
   "source": [
    "msno.matrix(anime, color=(0.5, 0.4, 0.6))"
   ]
  },
  {
   "cell_type": "markdown",
   "id": "f9e4bb48-dc37-49f6-a052-c7115ceefa08",
   "metadata": {},
   "source": [
    "Removing missing values with the 'dropna()' function."
   ]
  },
  {
   "cell_type": "code",
   "execution_count": 19,
   "id": "8a5d16f7-d209-4ae9-81ea-f267cfa55762",
   "metadata": {},
   "outputs": [],
   "source": [
    "anime.dropna(axis=0, inplace=True)"
   ]
  },
  {
   "cell_type": "code",
   "execution_count": 20,
   "id": "bc2f98a2-cea5-4a67-aa08-21e1efd13657",
   "metadata": {},
   "outputs": [
    {
     "data": {
      "text/plain": [
       "anime_id    0\n",
       "name        0\n",
       "genre       0\n",
       "type        0\n",
       "episodes    0\n",
       "rating      0\n",
       "members     0\n",
       "dtype: int64"
      ]
     },
     "execution_count": 20,
     "metadata": {},
     "output_type": "execute_result"
    }
   ],
   "source": [
    "anime.isnull().sum()"
   ]
  },
  {
   "cell_type": "code",
   "execution_count": 21,
   "id": "4dea7708-3855-4c12-92a3-7f25e242388e",
   "metadata": {},
   "outputs": [
    {
     "data": {
      "text/plain": [
       "(12017, 7)"
      ]
     },
     "execution_count": 21,
     "metadata": {},
     "output_type": "execute_result"
    }
   ],
   "source": [
    "anime.shape"
   ]
  },
  {
   "cell_type": "markdown",
   "id": "0a69f0cb-2623-45ed-8a4c-8fb575d760b3",
   "metadata": {},
   "source": [
    "#### Checking for duplicates:\n",
    "\n",
    "As we can see below there were no duplicates in the 'anime' dataset, but there is 1 duplicate in the 'rating' dataset that was removed using the '.drop_duplicates()' function."
   ]
  },
  {
   "cell_type": "code",
   "execution_count": 23,
   "id": "76c17fea-f141-4f70-91a1-7b1d18c8f646",
   "metadata": {},
   "outputs": [
    {
     "data": {
      "text/plain": [
       "0"
      ]
     },
     "execution_count": 23,
     "metadata": {},
     "output_type": "execute_result"
    }
   ],
   "source": [
    "anime.duplicated().sum()"
   ]
  },
  {
   "cell_type": "code",
   "execution_count": 24,
   "id": "cd90b622-5379-4fe4-9b2a-8342d026b666",
   "metadata": {},
   "outputs": [
    {
     "data": {
      "text/plain": [
       "1"
      ]
     },
     "execution_count": 24,
     "metadata": {},
     "output_type": "execute_result"
    }
   ],
   "source": [
    "rating.duplicated().sum()"
   ]
  },
  {
   "cell_type": "code",
   "execution_count": 25,
   "id": "f6b4adea-5ec8-45b5-bafa-c345d224f999",
   "metadata": {},
   "outputs": [],
   "source": [
    "rating.drop_duplicates(inplace=True)"
   ]
  },
  {
   "cell_type": "code",
   "execution_count": 26,
   "id": "0f4302ac-6381-403f-83e6-d3ff3cb30784",
   "metadata": {},
   "outputs": [
    {
     "data": {
      "text/plain": [
       "0"
      ]
     },
     "execution_count": 26,
     "metadata": {},
     "output_type": "execute_result"
    }
   ],
   "source": [
    "rating.duplicated().sum()"
   ]
  },
  {
   "cell_type": "markdown",
   "id": "80e22fdd-0254-44a0-aeb8-b9b6d5e52d90",
   "metadata": {},
   "source": [
    "#### Checking for data distribution:\n",
    "The function 'normal_test()' will be used to verify if the numerical variables from the 'anime' and 'rating' datasets follow a normal distribution. \r\n",
    "\r\n",
    "The 'anime_id' from the 'anime' dataset, and the 'user_id' and 'anime_id' from the 'rating' data were not considered as they consist of unique values that do not provide meaningful information."
   ]
  },
  {
   "cell_type": "code",
   "execution_count": 28,
   "id": "b95192e0-c6a9-4042-bb3c-8c1733fea38c",
   "metadata": {},
   "outputs": [
    {
     "name": "stdout",
     "output_type": "stream",
     "text": [
      "Normality test results for anime-rating: 3.4711753253907713e-133\n",
      "Normality test results for anime-members: 0.0\n"
     ]
    }
   ],
   "source": [
    "result_anime_r = normaltest(anime['rating'].values)\n",
    "result_anime_m = normaltest(anime['members'].values)\n",
    "\n",
    "print(\"Normality test results for anime-rating:\", result_anime_r[1])\n",
    "print(\"Normality test results for anime-members:\", result_anime_m[1])"
   ]
  },
  {
   "cell_type": "markdown",
   "id": "ef193d18-16f7-471e-8db2-4f87d5c90ea7",
   "metadata": {},
   "source": [
    "Considering the results from the 'anime' dataset, we observe that for both variables, their p-values are less than 0.05 (significance level). This indicates strong evidence against the null hypothesis, suggesting that these variables do not follow a normal distribution."
   ]
  },
  {
   "cell_type": "markdown",
   "id": "71fa6018-d6d8-4385-9c10-e575061f189a",
   "metadata": {},
   "source": [
    "The 'rating' variable from 'rating' dataset contains -1 and negative values are not allowed in the 'normaltest()' function. Because of this I removed them to verify the distribution of this variable."
   ]
  },
  {
   "cell_type": "code",
   "execution_count": 31,
   "id": "3845833d-f404-49e1-82a2-c6213f3df0f8",
   "metadata": {},
   "outputs": [],
   "source": [
    "rating_no_neg = rating['rating'].value_counts()\n",
    "rating_no_neg = rating_no_neg[rating_no_neg.index != -1]"
   ]
  },
  {
   "cell_type": "code",
   "execution_count": 32,
   "id": "65a83e4d-379a-44b3-827c-3eae4acd1a94",
   "metadata": {},
   "outputs": [
    {
     "name": "stdout",
     "output_type": "stream",
     "text": [
      "Normality test results for rating-rating (excluding -1 values): 0.2671013112231672\n"
     ]
    },
    {
     "name": "stderr",
     "output_type": "stream",
     "text": [
      "C:\\Users\\danie\\anaconda3\\Lib\\site-packages\\scipy\\stats\\_mstats_basic.py:3069: UserWarning: kurtosistest only valid for n>=20 ... continuing anyway, n=10\n",
      "  k, _ = kurtosistest(a, axis)\n"
     ]
    }
   ],
   "source": [
    "result_rating_r = normaltest(rating_no_neg)\n",
    "print(\"Normality test results for rating-rating (excluding -1 values):\", result_rating_r.pvalue)"
   ]
  },
  {
   "cell_type": "markdown",
   "id": "be7dbb6b-c7a4-46ed-91ce-c880d9cc40d1",
   "metadata": {},
   "source": [
    "The p-value for the 'rating' variable in the 'rating' dataset is greater than 0.05, indicating that there is not sufficient evidence to reject the null hypothesis. Therefore, we can consider that this variable is approximately normally distributed."
   ]
  },
  {
   "cell_type": "markdown",
   "id": "12e5f2a0-5eac-4e0e-af72-70882d8f9670",
   "metadata": {},
   "source": [
    "Below I will plot the histograms to see the distrubutions for 'rating' and 'members' from 'anime' dataset, and 'rating' from 'rating' dataset. \n",
    "\n",
    "I chose this type of visualization because the distribution of data can be easily understood, with the frequency or count of observations displayed in each interval (bins) (seaborn.pydata.org, n.d.)"
   ]
  },
  {
   "cell_type": "code",
   "execution_count": 35,
   "id": "f6327559-9c9e-4a4f-ab0a-0eda3fdd2fad",
   "metadata": {},
   "outputs": [
    {
     "data": {
      "image/png": "[encoded data removed]",
      "text/plain": [
       "<Figure size 1500x500 with 3 Axes>"
      ]
     },
     "metadata": {},
     "output_type": "display_data"
    }
   ],
   "source": [
    "fig, axs = plt.subplots(1, 3, figsize=(15, 5))\n",
    "\n",
    "sns.histplot(data=anime, x=\"rating\", bins=20, color='#6495ed', ax=axs[0])\n",
    "axs[0].set_xlabel(\"Rating\", fontsize=14)\n",
    "axs[0].set_ylabel(\"Count\", fontsize=14)\n",
    "axs[0].tick_params(axis='x', labelsize=14)\n",
    "axs[0].tick_params(axis='y', labelsize=14)\n",
    "\n",
    "sns.histplot(data=anime, x=\"members\", bins=20, color='#6495ed', ax=axs[1])\n",
    "axs[1].set_xlabel(\"Members\", fontsize=14)\n",
    "axs[1].set_ylabel(\"Count\", fontsize=14)\n",
    "axs[1].tick_params(axis='x', labelsize=14)\n",
    "axs[1].tick_params(axis='y', labelsize=14)\n",
    "\n",
    "sns.histplot(data=rating, x=\"rating\", bins=20, color='#483d8b', ax=axs[2])\n",
    "axs[2].set_xlabel(\"Rating\", fontsize=14)\n",
    "axs[2].set_ylabel(\"Count\", fontsize=14)\n",
    "axs[2].tick_params(axis='x', labelsize=14)\n",
    "axs[2].tick_params(axis='y', labelsize=14)\n",
    "\n",
    "plt.tight_layout()\n",
    "plt.show()"
   ]
  },
  {
   "cell_type": "markdown",
   "id": "b8dda78f-8a73-432c-8d15-e3eb828c2226",
   "metadata": {},
   "source": [
    "#### Checking for outliers:\n",
    "\n",
    "I will check for outliers and verify if I can remove them without losing the data integrity.\r\n",
    "As we can see below, the removal of outliers will be impossible since the entire dataset has been considered outliers. Even when I reduced the threshold to 0.00005, the number of outliers continued to be high. In addition, it seems that the outliers are simply part of the natural variation in the datasets, as evident from the boxplot (below). Therefore, I have decided not to remove outliers.s."
   ]
  },
  {
   "cell_type": "markdown",
   "id": "db06a041-8053-4e83-883a-69f55d9f1f40",
   "metadata": {},
   "source": [
    "I will not used the 'members' variable from 'anime' because it only provides records about the number of members per anime."
   ]
  },
  {
   "cell_type": "code",
   "execution_count": 38,
   "id": "abeb1e97-3fc9-413a-bb15-271f35597f6a",
   "metadata": {},
   "outputs": [],
   "source": [
    "Q1_a = anime[['rating']].quantile(0.25)\n",
    "Q3_a = anime[['rating']].quantile(0.75)\n",
    "IQR_a = Q3_a - Q1_a"
   ]
  },
  {
   "cell_type": "code",
   "execution_count": 39,
   "id": "70d936df-53c4-4c25-8041-86a1611535eb",
   "metadata": {},
   "outputs": [],
   "source": [
    "left, right = anime.align((Q1_a-1.5*IQR_a), axis=1, copy=False)\n",
    "left, right = left.align((Q3_a+1.5*IQR_a), axis=1, copy=False)\n",
    "outliers_a = anime[~((left < right).any(axis=1))]"
   ]
  },
  {
   "cell_type": "code",
   "execution_count": 40,
   "id": "1028c338-7af7-4b81-9dd4-b80adb770498",
   "metadata": {},
   "outputs": [
    {
     "data": {
      "text/plain": [
       "(12, 7)"
      ]
     },
     "execution_count": 40,
     "metadata": {},
     "output_type": "execute_result"
    }
   ],
   "source": [
    "outliers_a.shape"
   ]
  },
  {
   "cell_type": "code",
   "execution_count": 41,
   "id": "2812f59f-6191-4192-81a1-56f4d37a4173",
   "metadata": {},
   "outputs": [],
   "source": [
    "Q1_r = rating[['rating']].quantile(0.25)\n",
    "Q3_r = rating[['rating']].quantile(0.75)\n",
    "IQR_r = Q3_r - Q1_r"
   ]
  },
  {
   "cell_type": "code",
   "execution_count": 42,
   "id": "e833b31a-ed1e-42af-b110-6a9b8c2ab02e",
   "metadata": {},
   "outputs": [],
   "source": [
    "left, right = rating.align((Q1_r-1.5*IQR_r), axis=1, copy=False)\n",
    "left, right = left.align((Q3_r+1.5*IQR_r), axis=1, copy=False)\n",
    "outliers_r = rating[~((left < right).any(axis=1))]"
   ]
  },
  {
   "cell_type": "code",
   "execution_count": 43,
   "id": "2871b640-6ae5-4118-9f17-a2cac46be470",
   "metadata": {},
   "outputs": [
    {
     "data": {
      "text/plain": [
       "(0, 3)"
      ]
     },
     "execution_count": 43,
     "metadata": {},
     "output_type": "execute_result"
    }
   ],
   "source": [
    "outliers_r.shape"
   ]
  },
  {
   "cell_type": "code",
   "execution_count": 79,
   "id": "3f33fca1-3537-4085-af07-b825d88dfe35",
   "metadata": {},
   "outputs": [
    {
     "data": {
      "image/png": "[encoded data removed]",
      "text/plain": [
       "<Figure size 1000x500 with 2 Axes>"
      ]
     },
     "metadata": {},
     "output_type": "display_data"
    }
   ],
   "source": [
    "fig, axs = plt.subplots(1, 2, figsize=(10, 5))\n",
    "\n",
    "sns.boxplot(data=anime[['rating']], color='#6495ed', ax=axs[0])\n",
    "axs[0].set_ylim(bottom=-2, top=12)  \n",
    "axs[0].set_title('Rating - anime dataset')\n",
    "axs[0].set_xlabel('Rating', fontsize=14)\n",
    "axs[0].set_ylabel('Values', fontsize=14)\n",
    "\n",
    "sns.boxplot(data=rating[['rating']], color='#483d8b', ax=axs[1])\n",
    "axs[1].set_ylim(bottom=-2, top=12) \n",
    "axs[1].set_title('Rating - rating dataset')\n",
    "axs[1].set_xlabel('Rating', fontsize=14)\n",
    "axs[1].set_ylabel('Values', fontsize=14)\n",
    "\n",
    "plt.show()"
   ]
  },
  {
   "cell_type": "code",
   "execution_count": null,
   "id": "bebd0a0f-f63a-4ed4-aaf5-8a90d1d23845",
   "metadata": {},
   "outputs": [],
   "source": []
  },
  {
   "cell_type": "code",
   "execution_count": null,
   "id": "d1ef4f91-5f3c-491a-a934-0ee56cee6f38",
   "metadata": {},
   "outputs": [],
   "source": []
  }
 ],
 "metadata": {
  "kernelspec": {
   "display_name": "Python 3 (ipykernel)",
   "language": "python",
   "name": "python3"
  },
  "language_info": {
   "codemirror_mode": {
    "name": "ipython",
    "version": 3
   },
   "file_extension": ".py",
   "mimetype": "text/x-python",
   "name": "python",
   "nbconvert_exporter": "python",
   "pygments_lexer": "ipython3",
   "version": "3.11.9"
  }
 },
 "nbformat": 4,
 "nbformat_minor": 5
}
